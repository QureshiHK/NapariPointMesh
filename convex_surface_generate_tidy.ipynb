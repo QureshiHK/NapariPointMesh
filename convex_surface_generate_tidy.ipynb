{
 "cells": [
  {
   "cell_type": "markdown",
   "id": "7a4ad005-0c69-47f9-bf64-cef67db5699e",
   "metadata": {},
   "source": [
    "tidied up version of convex mesh generation code"
   ]
  },
  {
   "cell_type": "code",
   "execution_count": 1,
   "id": "8a0b9b5e-54d5-4ff9-a199-c7872682d61f",
   "metadata": {
    "tags": []
   },
   "outputs": [
    {
     "ename": "ImportError",
     "evalue": "cannot import name 'diff_treestructure' from 'xarray.core.formatting' (C:\\Users\\hkqur\\miniconda3\\envs\\devbio_2\\lib\\site-packages\\xarray\\core\\formatting.py)",
     "output_type": "error",
     "traceback": [
      "\u001b[1;31m---------------------------------------------------------------------------\u001b[0m",
      "\u001b[1;31mImportError\u001b[0m                               Traceback (most recent call last)",
      "Cell \u001b[1;32mIn[1], line 9\u001b[0m\n\u001b[0;32m      7\u001b[0m \u001b[38;5;28;01mfrom\u001b[39;00m \u001b[38;5;21;01mPIL\u001b[39;00m \u001b[38;5;28;01mimport\u001b[39;00m Image\n\u001b[0;32m      8\u001b[0m \u001b[38;5;66;03m#from PIL.TiffTags import TAGS\u001b[39;00m\n\u001b[1;32m----> 9\u001b[0m \u001b[38;5;28;01mfrom\u001b[39;00m \u001b[38;5;21;01maicsimageio\u001b[39;00m \u001b[38;5;28;01mimport\u001b[39;00m AICSImage, imread\n",
      "File \u001b[1;32m~\\miniconda3\\envs\\devbio_2\\lib\\site-packages\\aicsimageio\\__init__.py:6\u001b[0m\n\u001b[0;32m      1\u001b[0m \u001b[38;5;66;03m#!/usr/bin/env python\u001b[39;00m\n\u001b[0;32m      2\u001b[0m \u001b[38;5;66;03m# -*- coding: utf-8 -*-\u001b[39;00m\n\u001b[0;32m      4\u001b[0m \u001b[38;5;124;03m\"\"\"Top-level package for AICSImageIO.\"\"\"\u001b[39;00m\n\u001b[1;32m----> 6\u001b[0m \u001b[38;5;28;01mfrom\u001b[39;00m \u001b[38;5;21;01m.\u001b[39;00m\u001b[38;5;21;01maics_image\u001b[39;00m \u001b[38;5;28;01mimport\u001b[39;00m AICSImage  \u001b[38;5;66;03m# noqa: F401\u001b[39;00m\n\u001b[0;32m      7\u001b[0m \u001b[38;5;28;01mfrom\u001b[39;00m \u001b[38;5;21;01m.\u001b[39;00m\u001b[38;5;21;01maics_image\u001b[39;00m \u001b[38;5;28;01mimport\u001b[39;00m imread  \u001b[38;5;66;03m# noqa: F401\u001b[39;00m\n\u001b[0;32m      8\u001b[0m \u001b[38;5;28;01mfrom\u001b[39;00m \u001b[38;5;21;01m.\u001b[39;00m\u001b[38;5;21;01maics_image\u001b[39;00m \u001b[38;5;28;01mimport\u001b[39;00m imread_dask  \u001b[38;5;66;03m# noqa: F401\u001b[39;00m\n",
      "File \u001b[1;32m~\\miniconda3\\envs\\devbio_2\\lib\\site-packages\\aicsimageio\\aics_image.py:11\u001b[0m\n\u001b[0;32m      9\u001b[0m \u001b[38;5;28;01mimport\u001b[39;00m \u001b[38;5;21;01mdask\u001b[39;00m\u001b[38;5;21;01m.\u001b[39;00m\u001b[38;5;21;01marray\u001b[39;00m \u001b[38;5;28;01mas\u001b[39;00m \u001b[38;5;21;01mda\u001b[39;00m\n\u001b[0;32m     10\u001b[0m \u001b[38;5;28;01mimport\u001b[39;00m \u001b[38;5;21;01mnumpy\u001b[39;00m \u001b[38;5;28;01mas\u001b[39;00m \u001b[38;5;21;01mnp\u001b[39;00m\n\u001b[1;32m---> 11\u001b[0m \u001b[38;5;28;01mimport\u001b[39;00m \u001b[38;5;21;01mxarray\u001b[39;00m \u001b[38;5;28;01mas\u001b[39;00m \u001b[38;5;21;01mxr\u001b[39;00m\n\u001b[0;32m     12\u001b[0m \u001b[38;5;28;01mfrom\u001b[39;00m \u001b[38;5;21;01mome_types\u001b[39;00m \u001b[38;5;28;01mimport\u001b[39;00m OME\n\u001b[0;32m     14\u001b[0m \u001b[38;5;28;01mfrom\u001b[39;00m \u001b[38;5;21;01m.\u001b[39;00m \u001b[38;5;28;01mimport\u001b[39;00m dimensions, exceptions, transforms, types\n",
      "File \u001b[1;32m~\\miniconda3\\envs\\devbio_2\\lib\\site-packages\\xarray\\__init__.py:1\u001b[0m\n\u001b[1;32m----> 1\u001b[0m \u001b[38;5;28;01mfrom\u001b[39;00m \u001b[38;5;21;01m.\u001b[39;00m \u001b[38;5;28;01mimport\u001b[39;00m testing, tutorial\n\u001b[0;32m      2\u001b[0m \u001b[38;5;28;01mfrom\u001b[39;00m \u001b[38;5;21;01m.\u001b[39;00m\u001b[38;5;21;01mbackends\u001b[39;00m\u001b[38;5;21;01m.\u001b[39;00m\u001b[38;5;21;01mapi\u001b[39;00m \u001b[38;5;28;01mimport\u001b[39;00m (\n\u001b[0;32m      3\u001b[0m     load_dataarray,\n\u001b[0;32m      4\u001b[0m     load_dataset,\n\u001b[1;32m   (...)\u001b[0m\n\u001b[0;32m      8\u001b[0m     save_mfdataset,\n\u001b[0;32m      9\u001b[0m )\n\u001b[0;32m     10\u001b[0m \u001b[38;5;28;01mfrom\u001b[39;00m \u001b[38;5;21;01m.\u001b[39;00m\u001b[38;5;21;01mbackends\u001b[39;00m\u001b[38;5;21;01m.\u001b[39;00m\u001b[38;5;21;01mrasterio_\u001b[39;00m \u001b[38;5;28;01mimport\u001b[39;00m open_rasterio\n",
      "File \u001b[1;32m~\\miniconda3\\envs\\devbio_2\\lib\\site-packages\\xarray\\testing\\__init__.py:2\u001b[0m\n\u001b[0;32m      1\u001b[0m \u001b[38;5;66;03m# TODO: Add assert_isomorphic when making DataTree API public\u001b[39;00m\n\u001b[1;32m----> 2\u001b[0m \u001b[38;5;28;01mfrom\u001b[39;00m \u001b[38;5;21;01mxarray\u001b[39;00m\u001b[38;5;21;01m.\u001b[39;00m\u001b[38;5;21;01mtesting\u001b[39;00m\u001b[38;5;21;01m.\u001b[39;00m\u001b[38;5;21;01massertions\u001b[39;00m \u001b[38;5;28;01mimport\u001b[39;00m (  \u001b[38;5;66;03m# noqa: F401\u001b[39;00m\n\u001b[0;32m      3\u001b[0m     _assert_dataarray_invariants,\n\u001b[0;32m      4\u001b[0m     _assert_dataset_invariants,\n\u001b[0;32m      5\u001b[0m     _assert_indexes_invariants_checks,\n\u001b[0;32m      6\u001b[0m     _assert_internal_invariants,\n\u001b[0;32m      7\u001b[0m     _assert_variable_invariants,\n\u001b[0;32m      8\u001b[0m     _data_allclose_or_equiv,\n\u001b[0;32m      9\u001b[0m     assert_allclose,\n\u001b[0;32m     10\u001b[0m     assert_chunks_equal,\n\u001b[0;32m     11\u001b[0m     assert_duckarray_allclose,\n\u001b[0;32m     12\u001b[0m     assert_duckarray_equal,\n\u001b[0;32m     13\u001b[0m     assert_equal,\n\u001b[0;32m     14\u001b[0m     assert_identical,\n\u001b[0;32m     15\u001b[0m )\n\u001b[0;32m     17\u001b[0m __all__ \u001b[38;5;241m=\u001b[39m [\n\u001b[0;32m     18\u001b[0m     \u001b[38;5;124m\"\u001b[39m\u001b[38;5;124massert_allclose\u001b[39m\u001b[38;5;124m\"\u001b[39m,\n\u001b[0;32m     19\u001b[0m     \u001b[38;5;124m\"\u001b[39m\u001b[38;5;124massert_chunks_equal\u001b[39m\u001b[38;5;124m\"\u001b[39m,\n\u001b[1;32m   (...)\u001b[0m\n\u001b[0;32m     23\u001b[0m     \u001b[38;5;124m\"\u001b[39m\u001b[38;5;124massert_identical\u001b[39m\u001b[38;5;124m\"\u001b[39m,\n\u001b[0;32m     24\u001b[0m ]\n",
      "File \u001b[1;32m~\\miniconda3\\envs\\devbio_2\\lib\\site-packages\\xarray\\testing\\assertions.py:15\u001b[0m\n\u001b[0;32m     13\u001b[0m \u001b[38;5;28;01mfrom\u001b[39;00m \u001b[38;5;21;01mxarray\u001b[39;00m\u001b[38;5;21;01m.\u001b[39;00m\u001b[38;5;21;01mcore\u001b[39;00m\u001b[38;5;21;01m.\u001b[39;00m\u001b[38;5;21;01mdataarray\u001b[39;00m \u001b[38;5;28;01mimport\u001b[39;00m DataArray\n\u001b[0;32m     14\u001b[0m \u001b[38;5;28;01mfrom\u001b[39;00m \u001b[38;5;21;01mxarray\u001b[39;00m\u001b[38;5;21;01m.\u001b[39;00m\u001b[38;5;21;01mcore\u001b[39;00m\u001b[38;5;21;01m.\u001b[39;00m\u001b[38;5;21;01mdataset\u001b[39;00m \u001b[38;5;28;01mimport\u001b[39;00m Dataset\n\u001b[1;32m---> 15\u001b[0m \u001b[38;5;28;01mfrom\u001b[39;00m \u001b[38;5;21;01mxarray\u001b[39;00m\u001b[38;5;21;01m.\u001b[39;00m\u001b[38;5;21;01mcore\u001b[39;00m\u001b[38;5;21;01m.\u001b[39;00m\u001b[38;5;21;01mdatatree\u001b[39;00m \u001b[38;5;28;01mimport\u001b[39;00m DataTree\n\u001b[0;32m     16\u001b[0m \u001b[38;5;28;01mfrom\u001b[39;00m \u001b[38;5;21;01mxarray\u001b[39;00m\u001b[38;5;21;01m.\u001b[39;00m\u001b[38;5;21;01mcore\u001b[39;00m\u001b[38;5;21;01m.\u001b[39;00m\u001b[38;5;21;01mformatting\u001b[39;00m \u001b[38;5;28;01mimport\u001b[39;00m diff_datatree_repr\n\u001b[0;32m     17\u001b[0m \u001b[38;5;28;01mfrom\u001b[39;00m \u001b[38;5;21;01mxarray\u001b[39;00m\u001b[38;5;21;01m.\u001b[39;00m\u001b[38;5;21;01mcore\u001b[39;00m\u001b[38;5;21;01m.\u001b[39;00m\u001b[38;5;21;01mindexes\u001b[39;00m \u001b[38;5;28;01mimport\u001b[39;00m Index, PandasIndex, PandasMultiIndex, default_indexes\n",
      "File \u001b[1;32m~\\miniconda3\\envs\\devbio_2\\lib\\site-packages\\xarray\\core\\datatree.py:21\u001b[0m\n\u001b[0;32m     19\u001b[0m \u001b[38;5;28;01mfrom\u001b[39;00m \u001b[38;5;21;01mxarray\u001b[39;00m\u001b[38;5;21;01m.\u001b[39;00m\u001b[38;5;21;01mcore\u001b[39;00m\u001b[38;5;21;01m.\u001b[39;00m\u001b[38;5;21;01mdataarray\u001b[39;00m \u001b[38;5;28;01mimport\u001b[39;00m DataArray\n\u001b[0;32m     20\u001b[0m \u001b[38;5;28;01mfrom\u001b[39;00m \u001b[38;5;21;01mxarray\u001b[39;00m\u001b[38;5;21;01m.\u001b[39;00m\u001b[38;5;21;01mcore\u001b[39;00m\u001b[38;5;21;01m.\u001b[39;00m\u001b[38;5;21;01mdataset\u001b[39;00m \u001b[38;5;28;01mimport\u001b[39;00m Dataset, DataVariables\n\u001b[1;32m---> 21\u001b[0m \u001b[38;5;28;01mfrom\u001b[39;00m \u001b[38;5;21;01mxarray\u001b[39;00m\u001b[38;5;21;01m.\u001b[39;00m\u001b[38;5;21;01mcore\u001b[39;00m\u001b[38;5;21;01m.\u001b[39;00m\u001b[38;5;21;01mdatatree_mapping\u001b[39;00m \u001b[38;5;28;01mimport\u001b[39;00m (\n\u001b[0;32m     22\u001b[0m     TreeIsomorphismError,\n\u001b[0;32m     23\u001b[0m     check_isomorphic,\n\u001b[0;32m     24\u001b[0m     map_over_subtree,\n\u001b[0;32m     25\u001b[0m )\n\u001b[0;32m     26\u001b[0m \u001b[38;5;28;01mfrom\u001b[39;00m \u001b[38;5;21;01mxarray\u001b[39;00m\u001b[38;5;21;01m.\u001b[39;00m\u001b[38;5;21;01mcore\u001b[39;00m\u001b[38;5;21;01m.\u001b[39;00m\u001b[38;5;21;01mdatatree_ops\u001b[39;00m \u001b[38;5;28;01mimport\u001b[39;00m (\n\u001b[0;32m     27\u001b[0m     DataTreeArithmeticMixin,\n\u001b[0;32m     28\u001b[0m     MappedDatasetMethodsMixin,\n\u001b[0;32m     29\u001b[0m     MappedDataWithCoords,\n\u001b[0;32m     30\u001b[0m )\n\u001b[0;32m     31\u001b[0m \u001b[38;5;28;01mfrom\u001b[39;00m \u001b[38;5;21;01mxarray\u001b[39;00m\u001b[38;5;21;01m.\u001b[39;00m\u001b[38;5;21;01mcore\u001b[39;00m\u001b[38;5;21;01m.\u001b[39;00m\u001b[38;5;21;01mdatatree_render\u001b[39;00m \u001b[38;5;28;01mimport\u001b[39;00m RenderDataTree\n",
      "File \u001b[1;32m~\\miniconda3\\envs\\devbio_2\\lib\\site-packages\\xarray\\core\\datatree_mapping.py:10\u001b[0m\n\u001b[0;32m      8\u001b[0m \u001b[38;5;28;01mfrom\u001b[39;00m \u001b[38;5;21;01mxarray\u001b[39;00m\u001b[38;5;21;01m.\u001b[39;00m\u001b[38;5;21;01mcore\u001b[39;00m\u001b[38;5;21;01m.\u001b[39;00m\u001b[38;5;21;01mdataarray\u001b[39;00m \u001b[38;5;28;01mimport\u001b[39;00m DataArray\n\u001b[0;32m      9\u001b[0m \u001b[38;5;28;01mfrom\u001b[39;00m \u001b[38;5;21;01mxarray\u001b[39;00m\u001b[38;5;21;01m.\u001b[39;00m\u001b[38;5;21;01mcore\u001b[39;00m\u001b[38;5;21;01m.\u001b[39;00m\u001b[38;5;21;01mdataset\u001b[39;00m \u001b[38;5;28;01mimport\u001b[39;00m Dataset\n\u001b[1;32m---> 10\u001b[0m \u001b[38;5;28;01mfrom\u001b[39;00m \u001b[38;5;21;01mxarray\u001b[39;00m\u001b[38;5;21;01m.\u001b[39;00m\u001b[38;5;21;01mcore\u001b[39;00m\u001b[38;5;21;01m.\u001b[39;00m\u001b[38;5;21;01mformatting\u001b[39;00m \u001b[38;5;28;01mimport\u001b[39;00m diff_treestructure\n\u001b[0;32m     11\u001b[0m \u001b[38;5;28;01mfrom\u001b[39;00m \u001b[38;5;21;01mxarray\u001b[39;00m\u001b[38;5;21;01m.\u001b[39;00m\u001b[38;5;21;01mcore\u001b[39;00m\u001b[38;5;21;01m.\u001b[39;00m\u001b[38;5;21;01mtreenode\u001b[39;00m \u001b[38;5;28;01mimport\u001b[39;00m NodePath, TreeNode\n\u001b[0;32m     13\u001b[0m \u001b[38;5;28;01mif\u001b[39;00m TYPE_CHECKING:\n",
      "\u001b[1;31mImportError\u001b[0m: cannot import name 'diff_treestructure' from 'xarray.core.formatting' (C:\\Users\\hkqur\\miniconda3\\envs\\devbio_2\\lib\\site-packages\\xarray\\core\\formatting.py)"
     ]
    }
   ],
   "source": [
    "from skimage import io, data\n",
    "from skimage import filters, measure\n",
    "import napari\n",
    "from scipy import ndimage as ndi\n",
    "import numpy as np\n",
    "from PIL import Image\n",
    "from aicsimageio import AICSImage, imread"
   ]
  },
  {
   "cell_type": "code",
   "execution_count": 2,
   "id": "1d3a4a59-cf00-4fe5-bf34-25634a612010",
   "metadata": {
    "tags": []
   },
   "outputs": [],
   "source": [
    "from scipy.spatial import ConvexHull, Delaunay"
   ]
  },
  {
   "cell_type": "code",
   "execution_count": 3,
   "id": "b57f97f2-da2a-4fde-bfa1-1c63b4870cd2",
   "metadata": {
    "tags": []
   },
   "outputs": [],
   "source": [
    "viewer = napari.Viewer(title='convex_hull_surface')"
   ]
  },
  {
   "cell_type": "code",
   "execution_count": null,
   "id": "197752a6-d9fb-4eb9-af0f-f199f06e4a66",
   "metadata": {},
   "outputs": [],
   "source": [
    "image_1_name=str('i_ch1')\n",
    "layer_1_name=image_1_name\n",
    "image_2_name=str('i_ch2')\n",
    "layer_2_name=image_2_name\n",
    "file_path=str('file_path')"
   ]
  },
  {
   "cell_type": "code",
   "execution_count": 4,
   "id": "63becdd2-bb2f-486e-8b27-73fd42347e9c",
   "metadata": {
    "tags": []
   },
   "outputs": [
    {
     "name": "stdout",
     "output_type": "stream",
     "text": [
      "(20, 2, 80, 485, 623)\n"
     ]
    }
   ],
   "source": [
    "image_i = AICSImage(file_path)\n",
    "print(image_i.shape)"
   ]
  },
  {
   "cell_type": "code",
   "execution_count": 5,
   "id": "c76723d8-0592-4fb9-8711-370a14d9fb5a",
   "metadata": {
    "tags": []
   },
   "outputs": [],
   "source": [
    "i_ch1 = image_i.data[:,0,:,:]\n",
    "i_ch2 = image_i.data[:,1,:,:]\n"
   ]
  },
  {
   "cell_type": "code",
   "execution_count": 6,
   "id": "a4c7bc7d-fc34-4311-94b4-fb99ea4c6844",
   "metadata": {
    "tags": []
   },
   "outputs": [],
   "source": [
    "viewer.add_image(i_ch1, name='i_ch1',colormap='magenta',blending='additive')\n",
    "viewer.layers['i_ch1'].scale=[6,1,1]\n",
    "viewer.add_image(i_ch2, name='i_ch2',colormap='green',blending='additive')\n",
    "viewer.layers['i_ch2'].scale=[6,1,1]\n"
   ]
  },
  {
   "cell_type": "markdown",
   "id": "fe85b0ae-7809-4c8c-b0d4-0f1b20ac50fd",
   "metadata": {},
   "source": [
    "### convex hull generation"
   ]
  },
  {
   "cell_type": "code",
   "execution_count": 31,
   "id": "3786d19d-1c33-4ede-b3cc-30986129181c",
   "metadata": {},
   "outputs": [],
   "source": [
    "convex_points=viewer.layers['Points'].data"
   ]
  },
  {
   "cell_type": "code",
   "execution_count": 12,
   "id": "81ffeb9d-84e9-4015-a7a1-c9d45e58902f",
   "metadata": {
    "tags": []
   },
   "outputs": [],
   "source": [
    "relevant_indices=[1,2,3]\n",
    "convex_points_3D = [convex_points[i] for i in relevant_indices]"
   ]
  },
  {
   "cell_type": "code",
   "execution_count": 36,
   "id": "7ad82baa-63a6-4959-8328-633f74be8e40",
   "metadata": {
    "tags": []
   },
   "outputs": [
    {
     "name": "stdout",
     "output_type": "stream",
     "text": [
      "[56.0, 312.64481915157353, 140.41066274480036]\n",
      "[56.0, 291.1583765547404, 192.49900843409276]\n",
      "[56.0, 327.6202185372451, 202.91667757195123]\n",
      "[61.0, 323.062488289432, 154.0838534882396]\n",
      "[61.0, 296.3672111236697, 141.06176706591654]\n",
      "[61.0, 288.5539592702758, 209.4277207831128]\n",
      "[61.0, 336.73567903287125, 217.24097263650665]\n"
     ]
    }
   ],
   "source": [
    "array_3D = []\n",
    "for a in range(0,len(convex_points)):\n",
    "    array_3D_element = [convex_points[a][i] for i in relevant_indices]\n",
    "    print(array_3D_element)\n",
    "    array_3D.append(array_3D_element)"
   ]
  },
  {
   "cell_type": "code",
   "execution_count": 38,
   "id": "36b5a9b9-660c-47ac-8060-34577e876a17",
   "metadata": {
    "tags": []
   },
   "outputs": [],
   "source": [
    "cell_hull=ConvexHull(array_3D)"
   ]
  },
  {
   "cell_type": "code",
   "execution_count": 39,
   "id": "c86a0a37-a404-4655-a47c-d1200cb3048c",
   "metadata": {},
   "outputs": [],
   "source": [
    "cell_convex_test=cell_hull.simplices #generate vertices of convex hull"
   ]
  },
  {
   "cell_type": "code",
   "execution_count": 41,
   "id": "3cb5fd09-4759-4a00-bb2c-6734cc8d9390",
   "metadata": {},
   "outputs": [],
   "source": [
    "surface=viewer.add_surface(data=(convex_points,cell_convex_test))\n",
    "surface.normals.face.visible = True\n",
    "surface.normals.vertex.visible = True\n",
    "surface.wireframe.visible = True"
   ]
  },
  {
   "cell_type": "code",
   "execution_count": 42,
   "id": "906e9f4c-aa4b-49c9-9c5b-5033f9fe0208",
   "metadata": {},
   "outputs": [],
   "source": [
    "viewer.layers['Surface'].scale=[6,1,1]"
   ]
  }
 ],
 "metadata": {
  "kernelspec": {
   "display_name": "Python 3 (ipykernel)",
   "language": "python",
   "name": "python3"
  },
  "language_info": {
   "codemirror_mode": {
    "name": "ipython",
    "version": 3
   },
   "file_extension": ".py",
   "mimetype": "text/x-python",
   "name": "python",
   "nbconvert_exporter": "python",
   "pygments_lexer": "ipython3",
   "version": "3.9.19"
  }
 },
 "nbformat": 4,
 "nbformat_minor": 5
}
