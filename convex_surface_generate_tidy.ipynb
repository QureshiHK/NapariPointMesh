{
 "cells": [
  {
   "cell_type": "markdown",
   "id": "7a4ad005-0c69-47f9-bf64-cef67db5699e",
   "metadata": {},
   "source": [
    "## tidied up version of convex mesh generation code"
   ]
  },
  {
   "cell_type": "code",
   "execution_count": 28,
   "id": "8a0b9b5e-54d5-4ff9-a199-c7872682d61f",
   "metadata": {
    "tags": []
   },
   "outputs": [],
   "source": [
    "from skimage import io, data\n",
    "from skimage import filters, measure\n",
    "import napari\n",
    "from scipy import ndimage as ndi\n",
    "import numpy as np\n",
    "from PIL import Image\n",
    "from aicsimageio import AICSImage, imread\n",
    "import cv2"
   ]
  },
  {
   "cell_type": "code",
   "execution_count": 29,
   "id": "1d3a4a59-cf00-4fe5-bf34-25634a612010",
   "metadata": {
    "tags": []
   },
   "outputs": [],
   "source": [
    "from scipy.spatial import ConvexHull, Delaunay"
   ]
  },
  {
   "cell_type": "code",
   "execution_count": 30,
   "id": "a64a84cb-d216-404f-a5a1-953f0d7cc3f8",
   "metadata": {},
   "outputs": [],
   "source": [
    "import matplotlib.path as p"
   ]
  },
  {
   "cell_type": "code",
   "execution_count": 80,
   "id": "b57f97f2-da2a-4fde-bfa1-1c63b4870cd2",
   "metadata": {
    "tags": []
   },
   "outputs": [],
   "source": [
    "viewer = napari.Viewer(title='convex_hull_surface')"
   ]
  },
  {
   "cell_type": "code",
   "execution_count": 32,
   "id": "15306e7c-847f-42b4-90b0-7912e0e65e2d",
   "metadata": {},
   "outputs": [],
   "source": [
    "image_1_name=str('i_ch1')\n",
    "layer_1_name=image_1_name\n",
    "image_2_name=str('i_ch2')\n",
    "layer_2_name=image_2_name\n",
    "file_path=str('C:/Users/hkqur/Documents/napari/eb3/2024-02-09/fast/eb3_lifeact_58hrs_at_26C_e3_fast_proj-01-Airyscan Processing-17.czi')"
   ]
  },
  {
   "cell_type": "code",
   "execution_count": 33,
   "id": "63becdd2-bb2f-486e-8b27-73fd42347e9c",
   "metadata": {
    "tags": []
   },
   "outputs": [
    {
     "name": "stdout",
     "output_type": "stream",
     "text": [
      "(114, 1, 26, 332, 332)\n"
     ]
    }
   ],
   "source": [
    "image_i = AICSImage(file_path)\n",
    "print(image_i.shape)"
   ]
  },
  {
   "cell_type": "code",
   "execution_count": 34,
   "id": "c76723d8-0592-4fb9-8711-370a14d9fb5a",
   "metadata": {
    "tags": []
   },
   "outputs": [],
   "source": [
    "i_ch1 = image_i.data[:,0,:,:]\n",
    "#i_ch2 = image_i.data[:,1,:,:]\n"
   ]
  },
  {
   "cell_type": "code",
   "execution_count": 35,
   "id": "a4c7bc7d-fc34-4311-94b4-fb99ea4c6844",
   "metadata": {
    "tags": []
   },
   "outputs": [
    {
     "data": {
      "text/plain": [
       "\"\\nviewer.add_image(i_ch2, name='i_ch2',colormap='green',blending='additive')\\nviewer.layers['i_ch2'].scale=[6,1,1]\\n\""
      ]
     },
     "execution_count": 35,
     "metadata": {},
     "output_type": "execute_result"
    }
   ],
   "source": [
    "viewer.add_image(i_ch1, name='i_ch1',colormap='magenta',blending='additive')\n",
    "viewer.layers['i_ch1'].scale=[6,1,1]\n",
    "'''\n",
    "viewer.add_image(i_ch2, name='i_ch2',colormap='green',blending='additive')\n",
    "viewer.layers['i_ch2'].scale=[6,1,1]\n",
    "'''"
   ]
  },
  {
   "cell_type": "markdown",
   "id": "fe85b0ae-7809-4c8c-b0d4-0f1b20ac50fd",
   "metadata": {},
   "source": [
    "### convex hull generation"
   ]
  },
  {
   "cell_type": "code",
   "execution_count": 36,
   "id": "3786d19d-1c33-4ede-b3cc-30986129181c",
   "metadata": {},
   "outputs": [],
   "source": [
    "convex_points=viewer.layers['Points'].data"
   ]
  },
  {
   "cell_type": "code",
   "execution_count": 37,
   "id": "81ffeb9d-84e9-4015-a7a1-c9d45e58902f",
   "metadata": {
    "tags": []
   },
   "outputs": [],
   "source": [
    "relevant_indices=[1,2,3]\n",
    "convex_points_3D = [convex_points[i] for i in relevant_indices]"
   ]
  },
  {
   "cell_type": "code",
   "execution_count": 38,
   "id": "7ad82baa-63a6-4959-8328-633f74be8e40",
   "metadata": {
    "tags": []
   },
   "outputs": [
    {
     "name": "stdout",
     "output_type": "stream",
     "text": [
      "[0.0, 154.0173485195182, 193.47593645280685]\n",
      "[0.0, 135.22754777572578, 178.86164698541276]\n",
      "[0.0, 103.49366207509861, 191.3881808146077]\n",
      "[0.0, 77.18794103378923, 222.28696425995523]\n",
      "[0.0, 77.60549216142905, 239.40656049318832]\n",
      "[0.0, 100.57080418161979, 266.96493491741717]\n",
      "[0.0, 118.52550267013252, 299.53392287332406]\n",
      "[0.0, 153.18224626423853, 284.91963340592997]\n",
      "[0.0, 173.22470039095043, 270.3053439385359]\n",
      "[0.0, 176.14755828442927, 237.73635598262902]\n",
      "[0.0, 170.30184249747163, 213.10083945187895]\n",
      "[7.0, 146.50142822200124, 198.068998856845]\n",
      "[7.0, 111.42713350025541, 186.37756728292973]\n",
      "[7.0, 43.366299694962876, 218.52900411119668]\n",
      "[7.0, 76.35283877850956, 193.89348758044667]\n",
      "[7.0, 34.18017488688659, 260.7016680028197]\n",
      "[7.0, 47.5418109713612, 284.50208227829006]\n",
      "[7.0, 65.91406058751377, 301.62167851152316]\n",
      "[7.0, 88.04427035242485, 318.3237236171164]\n",
      "[7.0, 109.75692898969608, 321.66413263823506]\n",
      "[7.0, 128.54672973348852, 323.33433714879436]\n",
      "[7.0, 161.53326881703518, 296.19351385220534]\n",
      "[7.0, 178.65286505026828, 282.4143266400909]\n",
      "[7.0, 172.3895981356708, 231.89064019567132]\n",
      "[15.0, 128.54672973348852, 217.69390185591703]\n",
      "[15.0, 98.48304854342064, 203.07961238852295]\n",
      "[15.0, 71.34222524683159, 187.6302206658492]\n",
      "[15.0, 35.85037939744592, 202.2445101332433]\n",
      "[15.0, 24.9940500788103, 223.5396176428747]\n",
      "[15.0, 32.509970376327274, 260.28411687517985]\n",
      "[15.0, 37.938135035645075, 279.07391761897225]\n",
      "[15.0, 60.9034470558358, 300.7865762562435]\n",
      "[15.0, 87.20916809714518, 321.2465815105952]\n",
      "[15.0, 121.44836056361136, 327.0922972975529]\n",
      "[15.0, 147.33653047728092, 327.0922972975529]\n",
      "[15.0, 202.03572819809884, 313.73066121307824]\n",
      "[15.0, 233.76961389872605, 290.34779806524773]\n",
      "[15.0, 191.59695000710306, 246.5049296630654]\n",
      "[15.0, 160.2806154341157, 231.89064019567132]\n",
      "[21.0, 138.56795679684447, 226.04492440871365]\n",
      "[21.0, 100.98835530925962, 211.84818606895942]\n",
      "[21.0, 71.75977637447141, 188.46532292112886]\n",
      "[21.0, 54.22262901359849, 183.8722605170907]\n",
      "[21.0, 33.762623759246765, 206.8375725372814]\n",
      "[21.0, 24.576498951170468, 243.16452064194675]\n",
      "[21.0, 30.83976586576794, 273.22820183201463]\n",
      "[21.0, 60.9034470558358, 290.7653491928875]\n",
      "[21.0, 95.97774177758164, 325.8396439146334]\n",
      "[21.0, 131.05203649932747, 327.50984842519273]\n",
      "[21.0, 174.05980264623014, 321.24658151059526]\n",
      "[21.0, 204.54103496393782, 308.30249655376053]\n",
      "[21.0, 197.86021692170053, 268.21758830033673]\n",
      "[21.0, 179.48796730554793, 247.34003191834515]\n",
      "[25.0, 146.9189793496411, 234.39594696151036]\n",
      "[25.0, 113.09733801081472, 222.28696425995523]\n",
      "[25.0, 81.78100343782737, 200.15675449504417]\n",
      "[25.0, 56.72793577943748, 176.35634021957375]\n",
      "[25.0, 34.18017488688658, 211.4306349413196]\n",
      "[25.0, 22.4887433129713, 249.4277875565443]\n",
      "[25.0, 42.11364631204338, 285.3371845335698]\n",
      "[25.0, 60.90344705583579, 311.64290557487914]\n",
      "[25.0, 82.61610569310702, 329.1800529357521]\n",
      "[25.0, 132.30468988224698, 332.5204619568707]\n",
      "[25.0, 169.04918911455215, 331.6853597015911]\n",
      "[25.0, 203.2883815810183, 324.16943940407407]\n",
      "[25.0, 205.37613721921747, 307.049843170841]\n",
      "[25.0, 179.48796730554793, 266.96493491741717]\n",
      "[25.0, 166.54388234871317, 256.10860559878154]\n"
     ]
    }
   ],
   "source": [
    "array_3D = []\n",
    "for a in range(0,len(convex_points)):\n",
    "    array_3D_element = [convex_points[a][i] for i in relevant_indices]\n",
    "    print(array_3D_element)\n",
    "    array_3D.append(array_3D_element)"
   ]
  },
  {
   "cell_type": "code",
   "execution_count": 39,
   "id": "36b5a9b9-660c-47ac-8060-34577e876a17",
   "metadata": {
    "tags": []
   },
   "outputs": [],
   "source": [
    "cell_hull=ConvexHull(array_3D)"
   ]
  },
  {
   "cell_type": "code",
   "execution_count": 40,
   "id": "c86a0a37-a404-4655-a47c-d1200cb3048c",
   "metadata": {},
   "outputs": [],
   "source": [
    "cell_convex_test=cell_hull.simplices #generate vertex order of convex hull"
   ]
  },
  {
   "cell_type": "code",
   "execution_count": 41,
   "id": "3cb5fd09-4759-4a00-bb2c-6734cc8d9390",
   "metadata": {},
   "outputs": [],
   "source": [
    "surface=viewer.add_surface(data=(convex_points,cell_convex_test)) #cell_convex_test is the points data, convex points is how to join them to create polygon\n",
    "surface.normals.face.visible = True\n",
    "surface.normals.vertex.visible = True\n",
    "surface.wireframe.visible = True"
   ]
  },
  {
   "cell_type": "code",
   "execution_count": 42,
   "id": "906e9f4c-aa4b-49c9-9c5b-5033f9fe0208",
   "metadata": {},
   "outputs": [],
   "source": [
    "viewer.layers['Surface'].scale=[6,1,1]"
   ]
  },
  {
   "cell_type": "code",
   "execution_count": 43,
   "id": "a1041e4f-d061-4c5d-838f-5e696ab80537",
   "metadata": {},
   "outputs": [
    {
     "name": "stdout",
     "output_type": "stream",
     "text": [
      "424473.4555700367\n"
     ]
    },
    {
     "name": "stderr",
     "output_type": "stream",
     "text": [
      "C:\\Users\\hkqur\\miniconda3\\envs\\devbio_2\\lib\\site-packages\\vispy\\visuals\\mesh_normals.py:129: RuntimeWarning: invalid value encountered in divide\n",
      "  unit_normals = normals / norms\n"
     ]
    }
   ],
   "source": [
    "print(cell_hull.volume)"
   ]
  },
  {
   "cell_type": "markdown",
   "id": "8ac351c1-c3ff-419c-8253-16987427eacc",
   "metadata": {},
   "source": [
    "### create 3D mask from convex hull"
   ]
  },
  {
   "cell_type": "code",
   "execution_count": 44,
   "id": "b44fb7b9-d65b-4c4b-a659-894e9ff07df0",
   "metadata": {},
   "outputs": [],
   "source": [
    "conv_points = cell_hull.points"
   ]
  },
  {
   "cell_type": "code",
   "execution_count": 45,
   "id": "18f3f2f7-af95-4310-ada5-b849668e88f8",
   "metadata": {},
   "outputs": [],
   "source": [
    "deln = Delaunay(conv_points[cell_hull.vertices])"
   ]
  },
  {
   "cell_type": "code",
   "execution_count": 46,
   "id": "47b38275-7674-49bf-aee6-5f3af05fa411",
   "metadata": {},
   "outputs": [
    {
     "name": "stdout",
     "output_type": "stream",
     "text": [
      "(26, 332, 332)\n",
      "(332, 332, 26)\n",
      "(2, 332, 332)\n",
      "(332, 332, 2)\n"
     ]
    }
   ],
   "source": [
    "#print(i_ch1.shape)\n",
    "i_shape = i_ch1[0,:,:,:]\n",
    "print(i_shape.shape)\n",
    "\n",
    "i_shape2 = np.moveaxis(i_shape,0,2)\n",
    "print(i_shape2.shape)\n",
    "\n",
    "idx_2d = np.indices(i_shape.shape[1:])\n",
    "print(idx_2d.shape)\n",
    "idx_2d = np.moveaxis(idx_2d,0,-1)\n",
    "print(idx_2d.shape)"
   ]
  },
  {
   "cell_type": "code",
   "execution_count": 47,
   "id": "433661ae-45ef-40a0-964f-b900ad71c8c7",
   "metadata": {},
   "outputs": [
    {
     "name": "stdout",
     "output_type": "stream",
     "text": [
      "3\n",
      "26 332 332\n"
     ]
    }
   ],
   "source": [
    "print(i_shape.ndim)\n",
    "print(*i_shape.shape)\n"
   ]
  },
  {
   "cell_type": "code",
   "execution_count": 48,
   "id": "024f94f7-b053-4678-bafa-355108d823a6",
   "metadata": {},
   "outputs": [],
   "source": [
    "idx_3d = np.zeros((*i_shape.shape[1:3],i_shape.ndim))\n",
    "idx_3d.shape\n",
    "idx_3d[:,:,1:] = idx_2d"
   ]
  },
  {
   "cell_type": "code",
   "execution_count": 49,
   "id": "ac49c25b-0ea7-4994-a745-ce98722bcec2",
   "metadata": {},
   "outputs": [],
   "source": [
    "mask=np.zeros_like(i_shape,dtype=bool)"
   ]
  },
  {
   "cell_type": "code",
   "execution_count": 50,
   "id": "4a41082d-84c7-4943-bbd9-b08ad6d79a76",
   "metadata": {},
   "outputs": [
    {
     "data": {
      "text/plain": [
       "(26, 332, 332)"
      ]
     },
     "execution_count": 50,
     "metadata": {},
     "output_type": "execute_result"
    }
   ],
   "source": [
    "mask.shape"
   ]
  },
  {
   "cell_type": "code",
   "execution_count": 51,
   "id": "90532b18-58ec-4d9a-92c8-66a8d38ae83e",
   "metadata": {},
   "outputs": [
    {
     "data": {
      "text/plain": [
       "(332, 332, 3)"
      ]
     },
     "execution_count": 51,
     "metadata": {},
     "output_type": "execute_result"
    }
   ],
   "source": [
    "idx_3d.shape"
   ]
  },
  {
   "cell_type": "code",
   "execution_count": 52,
   "id": "34e29101-c989-40d7-ae99-5ae46c96c9da",
   "metadata": {},
   "outputs": [
    {
     "data": {
      "text/plain": [
       "26"
      ]
     },
     "execution_count": 52,
     "metadata": {},
     "output_type": "execute_result"
    }
   ],
   "source": [
    "len(i_shape)"
   ]
  },
  {
   "cell_type": "code",
   "execution_count": 53,
   "id": "4e673cf2-9877-41bf-aa2f-1bbdf3760c16",
   "metadata": {},
   "outputs": [],
   "source": [
    "for z in range(len(i_shape)):\n",
    "    idx_3d[:,:,0] = z\n",
    "    s = deln.find_simplex(idx_3d)\n",
    "    mask[z,(s != -1)] = 1"
   ]
  },
  {
   "cell_type": "code",
   "execution_count": 82,
   "id": "7e58dd7b-556d-4f5a-a913-7740ccfd425c",
   "metadata": {},
   "outputs": [],
   "source": [
    "viewer.add_image(mask, name='mask',colormap='magenta',blending='additive')\n",
    "viewer.layers['mask'].scale=[6,1,1]"
   ]
  },
  {
   "cell_type": "markdown",
   "id": "da8ff715-30d1-49e8-bc2e-79b8730d88d6",
   "metadata": {},
   "source": [
    "### crop on mask"
   ]
  },
  {
   "cell_type": "code",
   "execution_count": 59,
   "id": "f9f22fc3-7a65-408b-a32f-07acf2508649",
   "metadata": {},
   "outputs": [
    {
     "data": {
      "text/plain": [
       "(26, 332, 332)"
      ]
     },
     "execution_count": 59,
     "metadata": {},
     "output_type": "execute_result"
    }
   ],
   "source": [
    "mask.shape"
   ]
  },
  {
   "cell_type": "code",
   "execution_count": 60,
   "id": "df44a4e1-95fd-443c-b1e7-cdcec3107eb8",
   "metadata": {},
   "outputs": [
    {
     "data": {
      "text/plain": [
       "(26, 332, 332)"
      ]
     },
     "execution_count": 60,
     "metadata": {},
     "output_type": "execute_result"
    }
   ],
   "source": [
    "i_shape.shape"
   ]
  },
  {
   "cell_type": "code",
   "execution_count": 61,
   "id": "7f6d2b9e-203b-420c-b6b3-3c8d666ca1a7",
   "metadata": {},
   "outputs": [],
   "source": [
    "mask_int = mask*1\n"
   ]
  },
  {
   "cell_type": "code",
   "execution_count": 62,
   "id": "414aa879-aa9c-49f2-a706-6092898ab8b5",
   "metadata": {},
   "outputs": [],
   "source": [
    "masked_crop = np.zeros(i_shape2.shape)"
   ]
  },
  {
   "cell_type": "code",
   "execution_count": 63,
   "id": "6a688403-6469-47b8-b92f-2cd603807128",
   "metadata": {},
   "outputs": [
    {
     "data": {
      "text/plain": [
       "(332, 332, 26)"
      ]
     },
     "execution_count": 63,
     "metadata": {},
     "output_type": "execute_result"
    }
   ],
   "source": [
    "masked_crop.shape"
   ]
  },
  {
   "cell_type": "code",
   "execution_count": 64,
   "id": "1654523f-5947-4c8a-a722-709edda8618d",
   "metadata": {},
   "outputs": [
    {
     "data": {
      "text/plain": [
       "dtype('uint16')"
      ]
     },
     "execution_count": 64,
     "metadata": {},
     "output_type": "execute_result"
    }
   ],
   "source": [
    "i_shape2.dtype"
   ]
  },
  {
   "cell_type": "code",
   "execution_count": 65,
   "id": "8c176606-e480-43d3-9632-20399c0f760a",
   "metadata": {},
   "outputs": [],
   "source": [
    "masked_crop = masked_crop.astype(int)"
   ]
  },
  {
   "cell_type": "code",
   "execution_count": 66,
   "id": "2cadab25-b6d7-4c3e-9d13-9a330c8701ed",
   "metadata": {},
   "outputs": [
    {
     "data": {
      "text/plain": [
       "dtype('int32')"
      ]
     },
     "execution_count": 66,
     "metadata": {},
     "output_type": "execute_result"
    }
   ],
   "source": [
    "mask_int.dtype"
   ]
  },
  {
   "cell_type": "code",
   "execution_count": 67,
   "id": "be088083-4c2a-4c17-9798-e6a504ec49d1",
   "metadata": {},
   "outputs": [],
   "source": [
    "mask_int_uint = np.uint16(mask_int)\n",
    "mask_crop_uint = np.uint16(masked_crop)\n"
   ]
  },
  {
   "cell_type": "code",
   "execution_count": 68,
   "id": "5c66a289-da25-4488-8089-cc57f5964089",
   "metadata": {},
   "outputs": [
    {
     "data": {
      "text/plain": [
       "(114, 26, 332, 332)"
      ]
     },
     "execution_count": 68,
     "metadata": {},
     "output_type": "execute_result"
    }
   ],
   "source": [
    "mask.shape\n",
    "i_ch1.shape"
   ]
  },
  {
   "cell_type": "code",
   "execution_count": 84,
   "id": "35bb6a65-63f0-4e38-883e-6208c16849e0",
   "metadata": {},
   "outputs": [
    {
     "data": {
      "text/plain": [
       "(26, 332, 332)"
      ]
     },
     "execution_count": 84,
     "metadata": {},
     "output_type": "execute_result"
    }
   ],
   "source": [
    "i_ch1_tp0=i_ch1[0,:,:,:]\n",
    "#i_ch1_tp0 = np.moveaxis(i_ch1_tp0,0,-1)\n",
    "i_ch1_tp0.shape"
   ]
  },
  {
   "cell_type": "code",
   "execution_count": 77,
   "id": "1c7df834-18f0-4837-852d-4c00dd0d01bf",
   "metadata": {},
   "outputs": [
    {
     "name": "stdout",
     "output_type": "stream",
     "text": [
      "(332, 332, 26) = mask_crop_uint  (332, 332, 26) = i_ch1_tp0\n"
     ]
    }
   ],
   "source": [
    "print('{} = mask_crop_uint  {} = i_ch1_tp0'.format(mask_crop_uint.shape,(np.flip(i_ch1_tp0)).shape))"
   ]
  },
  {
   "cell_type": "code",
   "execution_count": null,
   "id": "e8b29c33-3e02-450e-b505-cb3a91a9adb0",
   "metadata": {},
   "outputs": [],
   "source": []
  },
  {
   "cell_type": "code",
   "execution_count": 85,
   "id": "dbdedc5a-56f5-486a-8f61-37ff9bd23091",
   "metadata": {},
   "outputs": [],
   "source": [
    "mask_i_ch1_tp0 = mask_int_uint*i_ch1_tp0"
   ]
  },
  {
   "cell_type": "code",
   "execution_count": 89,
   "id": "d717d9dc-c59c-4db4-8f2f-968c214d9bd0",
   "metadata": {},
   "outputs": [],
   "source": [
    "viewer.add_image(mask_i_ch1_tp0,name='mask_crop')\n",
    "viewer.layers['mask_crop'].scale = [6,1,1]"
   ]
  },
  {
   "cell_type": "code",
   "execution_count": 140,
   "id": "dc47a5f4-e963-4681-bdbb-fe8c1e2d66cf",
   "metadata": {},
   "outputs": [
    {
     "data": {
      "text/plain": [
       "array([[[0, 0, 0, ..., 0, 0, 0],\n",
       "        [0, 0, 0, ..., 0, 0, 0],\n",
       "        [0, 0, 0, ..., 0, 0, 0],\n",
       "        ...,\n",
       "        [0, 0, 0, ..., 0, 0, 0],\n",
       "        [0, 0, 0, ..., 0, 0, 0],\n",
       "        [0, 0, 0, ..., 0, 0, 0]],\n",
       "\n",
       "       [[0, 0, 0, ..., 0, 0, 0],\n",
       "        [0, 0, 0, ..., 0, 0, 0],\n",
       "        [0, 0, 0, ..., 0, 0, 0],\n",
       "        ...,\n",
       "        [0, 0, 0, ..., 0, 0, 0],\n",
       "        [0, 0, 0, ..., 0, 0, 0],\n",
       "        [0, 0, 0, ..., 0, 0, 0]],\n",
       "\n",
       "       [[0, 0, 0, ..., 0, 0, 0],\n",
       "        [0, 0, 0, ..., 0, 0, 0],\n",
       "        [0, 0, 0, ..., 0, 0, 0],\n",
       "        ...,\n",
       "        [0, 0, 0, ..., 0, 0, 0],\n",
       "        [0, 0, 0, ..., 0, 0, 0],\n",
       "        [0, 0, 0, ..., 0, 0, 0]],\n",
       "\n",
       "       ...,\n",
       "\n",
       "       [[0, 0, 0, ..., 0, 0, 0],\n",
       "        [0, 0, 0, ..., 0, 0, 0],\n",
       "        [0, 0, 0, ..., 0, 0, 0],\n",
       "        ...,\n",
       "        [0, 0, 0, ..., 0, 0, 0],\n",
       "        [0, 0, 0, ..., 0, 0, 0],\n",
       "        [0, 0, 0, ..., 0, 0, 0]],\n",
       "\n",
       "       [[0, 0, 0, ..., 0, 0, 0],\n",
       "        [0, 0, 0, ..., 0, 0, 0],\n",
       "        [0, 0, 0, ..., 0, 0, 0],\n",
       "        ...,\n",
       "        [0, 0, 0, ..., 0, 0, 0],\n",
       "        [0, 0, 0, ..., 0, 0, 0],\n",
       "        [0, 0, 0, ..., 0, 0, 0]],\n",
       "\n",
       "       [[0, 0, 0, ..., 0, 0, 0],\n",
       "        [0, 0, 0, ..., 0, 0, 0],\n",
       "        [0, 0, 0, ..., 0, 0, 0],\n",
       "        ...,\n",
       "        [0, 0, 0, ..., 0, 0, 0],\n",
       "        [0, 0, 0, ..., 0, 0, 0],\n",
       "        [0, 0, 0, ..., 0, 0, 0]]], dtype=uint16)"
      ]
     },
     "execution_count": 140,
     "metadata": {},
     "output_type": "execute_result"
    }
   ],
   "source": [
    "\n",
    "cv2.bitwise_and(mask_int_uint,i_shape,mask_crop_uint)"
   ]
  },
  {
   "cell_type": "code",
   "execution_count": 151,
   "id": "7e174395-60d7-48fd-848e-901f7537586c",
   "metadata": {},
   "outputs": [
    {
     "ename": "error",
     "evalue": "OpenCV(4.10.0) D:\\a\\opencv-python\\opencv-python\\opencv\\modules\\core\\src\\arithm.cpp:214: error: (-209:Sizes of input arguments do not match) The operation is neither 'array op array' (where arrays have the same size and type), nor 'array op scalar', nor 'scalar op array' in function 'cv::binary_op'\n",
     "output_type": "error",
     "traceback": [
      "\u001b[1;31m---------------------------------------------------------------------------\u001b[0m",
      "\u001b[1;31merror\u001b[0m                                     Traceback (most recent call last)",
      "Cell \u001b[1;32mIn[151], line 1\u001b[0m\n\u001b[1;32m----> 1\u001b[0m mask_crop_uint \u001b[38;5;241m=\u001b[39m \u001b[43mcv2\u001b[49m\u001b[38;5;241;43m.\u001b[39;49m\u001b[43mbitwise_and\u001b[49m\u001b[43m(\u001b[49m\u001b[43mmask_int_uint\u001b[49m\u001b[43m,\u001b[49m\u001b[43mi_ch1\u001b[49m\u001b[43m)\u001b[49m\n",
      "\u001b[1;31merror\u001b[0m: OpenCV(4.10.0) D:\\a\\opencv-python\\opencv-python\\opencv\\modules\\core\\src\\arithm.cpp:214: error: (-209:Sizes of input arguments do not match) The operation is neither 'array op array' (where arrays have the same size and type), nor 'array op scalar', nor 'scalar op array' in function 'cv::binary_op'\n"
     ]
    },
    {
     "name": "stderr",
     "output_type": "stream",
     "text": [
      "C:\\Users\\hkqur\\miniconda3\\envs\\devbio_2\\lib\\site-packages\\vispy\\visuals\\mesh_normals.py:129: RuntimeWarning: invalid value encountered in divide\n",
      "  unit_normals = normals / norms\n",
      "C:\\Users\\hkqur\\miniconda3\\envs\\devbio_2\\lib\\site-packages\\vispy\\visuals\\mesh_normals.py:129: RuntimeWarning: invalid value encountered in divide\n",
      "  unit_normals = normals / norms\n",
      "C:\\Users\\hkqur\\miniconda3\\envs\\devbio_2\\lib\\site-packages\\vispy\\visuals\\mesh_normals.py:129: RuntimeWarning: invalid value encountered in divide\n",
      "  unit_normals = normals / norms\n",
      "C:\\Users\\hkqur\\miniconda3\\envs\\devbio_2\\lib\\site-packages\\vispy\\visuals\\mesh_normals.py:129: RuntimeWarning: invalid value encountered in divide\n",
      "  unit_normals = normals / norms\n",
      "C:\\Users\\hkqur\\miniconda3\\envs\\devbio_2\\lib\\site-packages\\vispy\\visuals\\mesh_normals.py:129: RuntimeWarning: invalid value encountered in divide\n",
      "  unit_normals = normals / norms\n",
      "C:\\Users\\hkqur\\miniconda3\\envs\\devbio_2\\lib\\site-packages\\vispy\\visuals\\mesh_normals.py:129: RuntimeWarning: invalid value encountered in divide\n",
      "  unit_normals = normals / norms\n",
      "C:\\Users\\hkqur\\miniconda3\\envs\\devbio_2\\lib\\site-packages\\vispy\\visuals\\mesh_normals.py:129: RuntimeWarning: invalid value encountered in divide\n",
      "  unit_normals = normals / norms\n",
      "C:\\Users\\hkqur\\miniconda3\\envs\\devbio_2\\lib\\site-packages\\vispy\\visuals\\mesh_normals.py:129: RuntimeWarning: invalid value encountered in divide\n",
      "  unit_normals = normals / norms\n",
      "C:\\Users\\hkqur\\miniconda3\\envs\\devbio_2\\lib\\site-packages\\vispy\\visuals\\mesh_normals.py:129: RuntimeWarning: invalid value encountered in divide\n",
      "  unit_normals = normals / norms\n",
      "C:\\Users\\hkqur\\miniconda3\\envs\\devbio_2\\lib\\site-packages\\vispy\\visuals\\mesh_normals.py:129: RuntimeWarning: invalid value encountered in divide\n",
      "  unit_normals = normals / norms\n"
     ]
    }
   ],
   "source": [
    "mask_crop_uint = cv2.bitwise_and(mask_int_uint,i_ch1)"
   ]
  },
  {
   "cell_type": "code",
   "execution_count": 148,
   "id": "976e8701-3d73-4b39-8ad5-a3b5b9120c8d",
   "metadata": {},
   "outputs": [
    {
     "data": {
      "text/plain": [
       "(26, 332, 332)"
      ]
     },
     "execution_count": 148,
     "metadata": {},
     "output_type": "execute_result"
    }
   ],
   "source": [
    "mask_crop_uint.shape"
   ]
  },
  {
   "cell_type": "code",
   "execution_count": 149,
   "id": "f3e0cd79-13bc-4433-b48b-f49a46eeaabc",
   "metadata": {},
   "outputs": [],
   "source": [
    "viewer.add_image(mask_crop_uint,name='mask_crop')\n",
    "viewer.layers['mask_crop'].scale=[6,1,1]"
   ]
  },
  {
   "cell_type": "code",
   "execution_count": null,
   "id": "0e2b32e0-c999-469d-859e-5ecc26f28f37",
   "metadata": {},
   "outputs": [],
   "source": []
  }
 ],
 "metadata": {
  "kernelspec": {
   "display_name": "Python 3 (ipykernel)",
   "language": "python",
   "name": "python3"
  },
  "language_info": {
   "codemirror_mode": {
    "name": "ipython",
    "version": 3
   },
   "file_extension": ".py",
   "mimetype": "text/x-python",
   "name": "python",
   "nbconvert_exporter": "python",
   "pygments_lexer": "ipython3",
   "version": "3.9.19"
  }
 },
 "nbformat": 4,
 "nbformat_minor": 5
}
